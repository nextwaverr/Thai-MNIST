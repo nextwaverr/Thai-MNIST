{
 "cells": [
  {
   "cell_type": "markdown",
   "metadata": {},
   "source": [
    "# ThaiMNIST Example Code"
   ]
  },
  {
   "cell_type": "markdown",
   "metadata": {},
   "source": [
    "### import requirement"
   ]
  },
  {
   "cell_type": "code",
   "execution_count": 38,
   "metadata": {},
   "outputs": [],
   "source": [
    "from __future__ import print_function\n",
    "import keras\n",
    "from keras.datasets import mnist\n",
    "from keras.models import Sequential\n",
    "from keras.layers import Dense, Dropout, Flatten\n",
    "from keras.layers import Conv2D, MaxPooling2D\n",
    "from keras import backend as K\n",
    "from tensorflow.contrib.learn.python.learn.datasets.mnist import extract_images, extract_labels\n",
    "import numpy as np\n",
    "from keras.models import load_model\n",
    "import tensorflow as tf\n",
    "import cv2\n",
    "\n",
    "from matplotlib.pyplot import imshow\n",
    "from PIL import Image"
   ]
  },
  {
   "cell_type": "markdown",
   "metadata": {},
   "source": [
    "### Trains a simple convnet on the MNIST dataset\n",
    "Gets to 99.26% test accuracy after 10 epochs\n",
    "(there is still a lot of margin for parameter tuning).\n",
    "20 seconds per epoch on a GTX 1060 GPU."
   ]
  },
  {
   "cell_type": "code",
   "execution_count": 40,
   "metadata": {},
   "outputs": [
    {
     "name": "stdout",
     "output_type": "stream",
     "text": [
      "Extracting dataset\\number\\\\train-images-idx3-ubyte.gz\n",
      "Extracting dataset\\number\\\\train-labels-idx1-ubyte.gz\n",
      "Extracting dataset\\number\\\\test-images-idx3-ubyte.gz\n",
      "Extracting dataset\\number\\\\test-labels-idx1-ubyte.gz\n",
      "x_train shape: (284977, 28, 28, 1)\n",
      "284977 train samples\n",
      "31659 test samples\n",
      "Train on 284977 samples, validate on 31659 samples\n",
      "Epoch 1/10\n",
      "284977/284977 [==============================] - 29s 102us/step - loss: 0.1764 - acc: 0.9437 - val_loss: 0.0353 - val_acc: 0.9893\n",
      "Epoch 2/10\n",
      "284977/284977 [==============================] - 28s 97us/step - loss: 0.0664 - acc: 0.9793 - val_loss: 0.0280 - val_acc: 0.9915 0s - loss: 0.0665\n",
      "Epoch 3/10\n",
      "284977/284977 [==============================] - 28s 98us/step - loss: 0.0503 - acc: 0.9841 - val_loss: 0.0231 - val_acc: 0.9925\n",
      "Epoch 4/10\n",
      "284977/284977 [==============================] - 28s 98us/step - loss: 0.0442 - acc: 0.9865 - val_loss: 0.0218 - val_acc: 0.9934\n",
      "Epoch 5/10\n",
      "284977/284977 [==============================] - 29s 103us/step - loss: 0.0390 - acc: 0.9878 - val_loss: 0.0202 - val_acc: 0.9940\n",
      "Epoch 6/10\n",
      "284977/284977 [==============================] - 29s 103us/step - loss: 0.0359 - acc: 0.9890 - val_loss: 0.0216 - val_acc: 0.9935\n",
      "Epoch 7/10\n",
      "284977/284977 [==============================] - 30s 104us/step - loss: 0.0323 - acc: 0.9899 - val_loss: 0.0210 - val_acc: 0.9938\n",
      "Epoch 8/10\n",
      "284977/284977 [==============================] - 29s 101us/step - loss: 0.0312 - acc: 0.9904 - val_loss: 0.0224 - val_acc: 0.9940\n",
      "Epoch 9/10\n",
      "284977/284977 [==============================] - 30s 106us/step - loss: 0.0295 - acc: 0.9908 - val_loss: 0.0204 - val_acc: 0.9944\n",
      "Epoch 10/10\n",
      "284977/284977 [==============================] - 28s 100us/step - loss: 0.0284 - acc: 0.9910 - val_loss: 0.0198 - val_acc: 0.9946\n",
      "Test loss: 0.019791452670065973\n",
      "Test accuracy: 0.9945671057203322\n"
     ]
    }
   ],
   "source": [
    "datasetpath = r'dataset\\number\\\\' # Change to your onw dataset\n",
    "\n",
    "with open(datasetpath + 'train-images-idx3-ubyte.gz', 'rb') as f:\n",
    "    x_train = extract_images(f)\n",
    "with open(datasetpath + 'train-labels-idx1-ubyte.gz', 'rb') as f:\n",
    "    y_train = extract_labels(f)\n",
    "with open(datasetpath + 'test-images-idx3-ubyte.gz', 'rb') as f:\n",
    "    x_test = extract_images(f)\n",
    "with open(datasetpath + 'test-labels-idx1-ubyte.gz', 'rb') as f:\n",
    "    y_test = extract_labels(f)\n",
    "\n",
    "\n",
    "batch_size = 128\n",
    "num_classes = 10 # default 10 if you train alphabet class change to 26\n",
    "epochs = 10 \n",
    "\n",
    "# input image dimensions\n",
    "img_rows, img_cols = 28, 28\n",
    "\n",
    "if K.image_data_format() == 'channels_first':\n",
    "    x_train = x_train.reshape(x_train.shape[0], 1, img_rows, img_cols)\n",
    "    x_test = x_test.reshape(x_test.shape[0], 1, img_rows, img_cols)\n",
    "    input_shape = (1, img_rows, img_cols)\n",
    "else:\n",
    "    x_train = x_train.reshape(x_train.shape[0], img_rows, img_cols, 1)\n",
    "    x_test = x_test.reshape(x_test.shape[0], img_rows, img_cols, 1)\n",
    "    input_shape = (img_rows, img_cols, 1)\n",
    "\n",
    "x_train = x_train.astype('float32')\n",
    "x_test = x_test.astype('float32')\n",
    "x_train /= 255\n",
    "x_test /= 255\n",
    "print('x_train shape:', x_train.shape)\n",
    "print(x_train.shape[0], 'train samples')\n",
    "print(x_test.shape[0], 'test samples')\n",
    "\n",
    "# convert class vectors to binary class matrices\n",
    "y_train = keras.utils.to_categorical(y_train, num_classes)\n",
    "y_test = keras.utils.to_categorical(y_test, num_classes)\n",
    "\n",
    "model = Sequential()\n",
    "model.add(Conv2D(32, kernel_size=(3, 3),\n",
    "                 activation='relu',\n",
    "                 input_shape=input_shape))\n",
    "model.add(Conv2D(64, (3, 3), activation='relu'))\n",
    "model.add(MaxPooling2D(pool_size=(2, 2)))\n",
    "model.add(Dropout(0.25))\n",
    "model.add(Flatten())\n",
    "model.add(Dense(128, activation='relu'))\n",
    "model.add(Dropout(0.5))\n",
    "model.add(Dense(num_classes, activation='softmax'))\n",
    "\n",
    "model.compile(loss=keras.losses.categorical_crossentropy,\n",
    "              optimizer=keras.optimizers.Adadelta(),\n",
    "              metrics=['accuracy'])\n",
    "\n",
    "model.fit(x_train, y_train,\n",
    "          batch_size=batch_size,\n",
    "          epochs=epochs,\n",
    "          verbose=1,\n",
    "          validation_data=(x_test, y_test))\n",
    "score = model.evaluate(x_test, y_test, verbose=0)\n",
    "print('Test loss:', score[0])\n",
    "print('Test accuracy:', score[1])"
   ]
  },
  {
   "cell_type": "markdown",
   "metadata": {},
   "source": [
    "### Saving Model"
   ]
  },
  {
   "cell_type": "code",
   "execution_count": 41,
   "metadata": {},
   "outputs": [],
   "source": [
    "model.save(\"model/thaimnist.h5\")"
   ]
  },
  {
   "cell_type": "markdown",
   "metadata": {},
   "source": [
    "### Loading Model"
   ]
  },
  {
   "cell_type": "code",
   "execution_count": 42,
   "metadata": {},
   "outputs": [],
   "source": [
    "del model\n",
    "model = load_model('model/thaimnist.h5')"
   ]
  },
  {
   "cell_type": "markdown",
   "metadata": {},
   "source": [
    "### Example Prediction Model"
   ]
  },
  {
   "cell_type": "code",
   "execution_count": 43,
   "metadata": {},
   "outputs": [
    {
     "name": "stdout",
     "output_type": "stream",
     "text": [
      "Image Shape (1, 28, 28, 1)\n",
      "One-hot Prediction [0. 0. 0. 0. 0. 0. 0. 1. 0. 0.]\n",
      "Label Prediction = 7\n"
     ]
    },
    {
     "data": {
      "image/png": "[encoded data removed]",
      "text/plain": [
       "<Figure size 432x288 with 1 Axes>"
      ]
     },
     "metadata": {
      "needs_background": "light"
     },
     "output_type": "display_data"
    }
   ],
   "source": [
    "%matplotlib inline\n",
    "img_path = r'image\\number\\158.png' #Change Your own  image\n",
    "image = cv2.imread(img_path,0)\n",
    "pil_im = Image.open(img_path, 'r')\n",
    "image = image.reshape(1,28,28,1)\n",
    "\n",
    "print('Image Shape ' + str(image.shape))\n",
    "num =  model.predict(image)\n",
    "print('One-hot Prediction ' + str(num[0]))\n",
    "label = np.where(num[0] == 1)\n",
    "imshow(np.asarray(pil_im))\n",
    "print('Label Prediction = ' + str(label[0][0]))"
   ]
  },
  {
   "cell_type": "code",
   "execution_count": null,
   "metadata": {},
   "outputs": [],
   "source": []
  }
 ],
 "metadata": {
  "kernelspec": {
   "display_name": "Python 3",
   "language": "python",
   "name": "python3"
  },
  "language_info": {
   "codemirror_mode": {
    "name": "ipython",
    "version": 3
   },
   "file_extension": ".py",
   "mimetype": "text/x-python",
   "name": "python",
   "nbconvert_exporter": "python",
   "pygments_lexer": "ipython3",
   "version": "3.5.4"
  }
 },
 "nbformat": 4,
 "nbformat_minor": 2
}
